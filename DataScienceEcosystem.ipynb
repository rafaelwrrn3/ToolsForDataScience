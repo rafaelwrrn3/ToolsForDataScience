{
 "cells": [
  {
   "cell_type": "markdown",
   "id": "6053e0bf-de72-49aa-b0ec-d01d48630829",
   "metadata": {},
   "source": [
    "# Data Science Tools and Ecosystem"
   ]
  },
  {
   "cell_type": "markdown",
   "id": "213928d2-0845-4ea1-a80b-219ae04e1fe7",
   "metadata": {},
   "source": [
    "In this notebook, Data Science Tools and Ecosystem are summarized."
   ]
  },
  {
   "cell_type": "markdown",
   "id": "2fd2c58f-fd93-4b4f-a469-825f3e302344",
   "metadata": {},
   "source": [
    "Some of the popular languages that Data Scientists use are:\n",
    "1. Python\n",
    "2. R\n",
    "3. SQL"
   ]
  },
  {
   "cell_type": "markdown",
   "id": "b9d8622d-51f0-4e8a-a3bd-c5f57df02008",
   "metadata": {
    "tags": []
   },
   "source": [
    "Some of the commonly used libraries used by Data Scientists include:\n",
    "1. Pandas\n",
    "1. Scikit-learn\n",
    "1. Numpy"
   ]
  },
  {
   "cell_type": "markdown",
   "id": "ac076e23-229b-4037-a95f-4657a4b9ea2f",
   "metadata": {
    "tags": []
   },
   "source": [
    "| Data Science Tools |\n",
    "| --- |\n",
    "| Jupyter Notebook |\n",
    "| RStudio |\n",
    "| Visual Studio |"
   ]
  },
  {
   "cell_type": "markdown",
   "id": "cb868be5-f9fd-4f4e-9042-fe19dca027e0",
   "metadata": {},
   "source": [
    "### Below are a few examples of evaluating arithmetic expressions in Python\n",
    "$(1+5)^2 = 36$ <br>\n",
    "$ 2*5 = 10$ <br>\n",
    "$ 7-2 = 5$"
   ]
  },
  {
   "cell_type": "code",
   "execution_count": 4,
   "id": "7fb8c25f-f154-4d97-b1b9-f96804534773",
   "metadata": {
    "tags": []
   },
   "outputs": [
    {
     "data": {
      "text/plain": [
       "17"
      ]
     },
     "execution_count": 4,
     "metadata": {},
     "output_type": "execute_result"
    }
   ],
   "source": [
    "#This a simple arithmetic expression to mutiply then add integers\n",
    "(3*4)+5"
   ]
  },
  {
   "cell_type": "code",
   "execution_count": 5,
   "id": "cb50a523-69a3-42c1-8ee0-4ab714272253",
   "metadata": {
    "tags": []
   },
   "outputs": [
    {
     "data": {
      "text/plain": [
       "3.3333333333333335"
      ]
     },
     "execution_count": 5,
     "metadata": {},
     "output_type": "execute_result"
    }
   ],
   "source": [
    "#This will convert 200 minutes to hours by diving by 60\n",
    "200/60"
   ]
  },
  {
   "cell_type": "markdown",
   "id": "af776a0e-0873-4b05-b5e4-5c36a275fa19",
   "metadata": {},
   "source": [
    "**Objectives:**\n",
    "- List popular languages for Data Science\n",
    "- List popular Data Science tools\n",
    "- List popular libraries for Data Science\n",
    "- List open source IDEs used for Data Science"
   ]
  },
  {
   "cell_type": "markdown",
   "id": "d2d8acd8-a60c-4873-b343-d4ff40a91814",
   "metadata": {},
   "source": [
    "## Author\n",
    "Rafael Mello"
   ]
  },
  {
   "cell_type": "code",
   "execution_count": null,
   "id": "5ddd889a-32de-487c-a871-8f873c2fddf1",
   "metadata": {},
   "outputs": [],
   "source": []
  }
 ],
 "metadata": {
  "kernelspec": {
   "display_name": "Python",
   "language": "python",
   "name": "conda-env-python-py"
  },
  "language_info": {
   "codemirror_mode": {
    "name": "ipython",
    "version": 3
   },
   "file_extension": ".py",
   "mimetype": "text/x-python",
   "name": "python",
   "nbconvert_exporter": "python",
   "pygments_lexer": "ipython3",
   "version": "3.7.12"
  }
 },
 "nbformat": 4,
 "nbformat_minor": 5
}
